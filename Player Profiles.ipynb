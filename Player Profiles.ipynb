{
 "cells": [
  {
   "cell_type": "code",
   "execution_count": 153,
   "id": "8fbfc875",
   "metadata": {},
   "outputs": [],
   "source": [
    "import pandas as pd, numpy as np\n",
    "from datetime import datetime\n",
    "from numpy.linalg import norm\n",
    "import statistics"
   ]
  },
  {
   "cell_type": "code",
   "execution_count": 154,
   "id": "fb33e0b1",
   "metadata": {},
   "outputs": [],
   "source": [
    "def get_regseason(playtype):\n",
    "    file = \"C:\\\\Users\\spens\\\\Basketball\\\\NBA Stats\\\\playtype_fullseason_2016-22\\\\{}_reg_2016-22.csv\".format(playtype)\n",
    "    temp = pd.read_csv(file)\n",
    "    df_reg = temp.drop(columns=[\"Unnamed: 0\"])\n",
    "    #print(len(df_reg))\n",
    "    df_reg['Season'] = [\"Regular Season\" for i in range(len(df_reg))]\n",
    "    #reg_copy_df = df_reg\n",
    "    #df_reg = df_reg.loc[df_reg['GP'] > statistics.median(list(df_reg['GP'].values))]\n",
    "    #df_reg = df_reg.loc[df_reg['POSS'] > statistics.median(list(df_reg['POSS'].values))]\n",
    "    #df_reg = df_reg.loc[df_reg['FREQ'] > statistics.median(list(df_reg['FREQ'].values))] \n",
    "    df_reg = df_reg.sort_values(by=\"PPP\", ascending=False)\n",
    "    df_reg.reset_index(drop=True,inplace=True)\n",
    "    #df_reg\n",
    "    print(len(df_reg))\n",
    "    return df_reg"
   ]
  },
  {
   "cell_type": "code",
   "execution_count": 155,
   "id": "99bfe4ca",
   "metadata": {},
   "outputs": [],
   "source": [
    "def get_playoffs(playtype):\n",
    "    file = \"C:\\\\Users\\\\spens\\\\Basketball\\\\NBA Stats\\\\playtype_fullseason_2016-22\\\\{}_playoffs_2016-22.csv\".format(playtype)\n",
    "    temp = pd.read_csv(file)\n",
    "    df_poffs = temp.drop(columns=[\"Unnamed: 0\"])\n",
    "    #print(len(df_poffs))\n",
    "    df_poffs['Season'] = [\"Playoffs\" for i in range(len(df_poffs))]\n",
    "    #poffs_copy_df = df_poffs\n",
    "    #df_poffs = df_poffs.loc[df_poffs['GP'] > statistics.median(list(df_poffs['GP'].values))]\n",
    "    #df_poffs = df_poffs.loc[df_poffs['POSS'] > statistics.median(list(df_poffs['POSS'].values))]\n",
    "    #df_poffs = df_poffs.loc[df_poffs['FREQ'] > statistics.median(list(df_poffs['FREQ'].values))] \n",
    "    df_poffs = df_poffs.sort_values(by=\"PPP\", ascending=False)\n",
    "    df_poffs.reset_index(drop=True,inplace=True)\n",
    "    #df_poffs\n",
    "    print(len(df_poffs))\n",
    "    return df_poffs"
   ]
  },
  {
   "cell_type": "code",
   "execution_count": 156,
   "id": "7f191df4",
   "metadata": {},
   "outputs": [],
   "source": [
    "file_lst = ['cut', 'handoff', 'isolation', 'offscreen', 'postup', 'pr_ballhandler', 'pr_rollman', 'spotup', 'transition']"
   ]
  },
  {
   "cell_type": "code",
   "execution_count": 157,
   "id": "4293ada7",
   "metadata": {},
   "outputs": [
    {
     "name": "stdout",
     "output_type": "stream",
     "text": [
      "cut\n",
      "2405\n",
      "1050\n",
      "handoff\n",
      "1820\n",
      "822\n",
      "isolation\n",
      "1879\n",
      "928\n",
      "offscreen\n",
      "1601\n",
      "800\n",
      "postup\n",
      "1261\n",
      "635\n",
      "pr_ballhandler\n",
      "2086\n",
      "921\n",
      "pr_rollman\n",
      "1475\n",
      "884\n",
      "spotup\n",
      "3074\n",
      "1316\n",
      "transition\n",
      "3027\n",
      "1294\n"
     ]
    }
   ],
   "source": [
    "df_lst = []\n",
    "for playtype in file_lst:\n",
    "    print(playtype)\n",
    "    df_full = pd.concat([get_regseason(playtype), get_playoffs(playtype)])\n",
    "    df_lst.append((df_full, playtype))"
   ]
  },
  {
   "cell_type": "code",
   "execution_count": 158,
   "id": "68ad65b7",
   "metadata": {},
   "outputs": [],
   "source": [
    "#df_lst"
   ]
  },
  {
   "cell_type": "code",
   "execution_count": 159,
   "id": "27c804f4",
   "metadata": {},
   "outputs": [
    {
     "name": "stdout",
     "output_type": "stream",
     "text": [
      "Inserted 712 player rows of playtype cut\n",
      "Inserted 541 player rows of playtype handoff\n",
      "Inserted 564 player rows of playtype isolation\n",
      "Inserted 503 player rows of playtype offscreen\n",
      "Inserted 366 player rows of playtype postup\n",
      "Inserted 598 player rows of playtype pr_ballhandler\n",
      "Inserted 462 player rows of playtype pr_rollman\n",
      "Inserted 850 player rows of playtype spotup\n",
      "Inserted 818 player rows of playtype transition\n"
     ]
    }
   ],
   "source": [
    "res = []\n",
    "for (df, playtype) in df_lst:\n",
    "    #print(playtype)\n",
    "    #print(len(df))\n",
    "    df = df.loc[df['Season'] == 'Regular Season']\n",
    "    players = list(df['PLAYER'].unique())\n",
    "    #print(len(players))\n",
    "    player_data = []\n",
    "    for player in players:\n",
    "        player_df = df.loc[df['PLAYER'] == str(player)]\n",
    "        #print(len(player_df))\n",
    "        data_tup = tuple()\n",
    "        copy = player_df\n",
    "       # player_df = player_df.loc[player_df['Season'] == 'Regular Season']\n",
    "      #  print(len(player_df))\n",
    "        \n",
    "        #print(list(player_df.columns))\n",
    "        num_seasons = len(player_df)\n",
    "        if num_seasons > 0:\n",
    "           # print(player)\n",
    "            #season_lst = list(player_df['Year'].values)\n",
    "            #print(\"Average GP: \" + str(round(player_df['GP'].mean(),0)))\n",
    "            a_gp = player_df['GP'].median()\n",
    "            #print(\"Average POSS / G: \" + str(round(player_df['POSS'].mean(),2)))\n",
    "            a_poss = player_df['POSS'].median()\n",
    "            #print(\"Average FREQ: \" + str(round(player_df['FREQ'].mean(),2)))\n",
    "            a_freq = player_df['FREQ'].median()\n",
    "            #print(\"Average PPP: \" + str(round(player_df['PPP'].mean(),2)))\n",
    "            a_ppp = player_df['PPP'].median()\n",
    "            #print(\"Average PTS / G: \" + str(round(player_df['PTS'].mean(),2)))\n",
    "            a_pts = player_df['PTS'].median()\n",
    "            #print(\"Average EFG%: \" + str(round(player_df['EFG%'].mean(),0)))\n",
    "            a_efg = player_df['EFG%'].median()\n",
    "            #print(\"Average FT FREQ: \" + str(round(player_df['FT FREQ'].mean(),1)))\n",
    "            a_ffreq = player_df['FT FREQ'].median()\n",
    "            #print(\"Average TOV FREQ: \" + str(round(player_df['TOV FREQ'].mean(),1)))\n",
    "            a_tfreq = player_df['TOV FREQ'].median()\n",
    "            #print(\"Average SF FREQ: \" + str(round(player_df['SF FREQ'].mean(),1)))\n",
    "            a_sffreq = player_df['SF FREQ'].median()\n",
    "            #print(\"Average SCORE FREQ: \" + str(round(player_df['SCORE FREQ'].mean(),2)))\n",
    "            a_scfreq = player_df['SCORE FREQ'].median()\n",
    "            #print(\"Average PERCENTILE: \" + str(round(player_df['PERCENTILE'].mean(),0)))\n",
    "            #a_perc = player_df['PERCENTILE'].median()\n",
    "            data_tup = (player, num_seasons, \"Regular Season\", a_gp, a_poss, a_freq, a_ppp, a_pts, a_efg, a_ffreq, a_tfreq, a_sffreq, a_scfreq)\n",
    "            player_data.append(data_tup)\n",
    "            #print(\"Inserted \" + str(data_tup))\n",
    "    res.append((player_data, playtype))\n",
    "    print(\"Inserted \" + str(len(player_data)) + \" player rows of playtype \" + str(playtype))"
   ]
  },
  {
   "cell_type": "code",
   "execution_count": 160,
   "id": "4313a72f",
   "metadata": {},
   "outputs": [],
   "source": [
    "cols = ['Player', 'Playtype', '# Seasons', 'Season', 'Avg. GP', 'Avg. # Poss', 'Avg. Freq', 'Avg. PPP', 'Avg. Pts', 'Avg. EFG%', 'Avg. FT Freq', 'Avg. TOV Freq', 'Avg. SF Freq', 'Avg. Score Freq']"
   ]
  },
  {
   "cell_type": "code",
   "execution_count": 161,
   "id": "1062c3fe",
   "metadata": {},
   "outputs": [
    {
     "name": "stdout",
     "output_type": "stream",
     "text": [
      "cut\n",
      "handoff\n",
      "isolation\n",
      "offscreen\n",
      "postup\n",
      "pr_ballhandler\n",
      "pr_rollman\n",
      "spotup\n",
      "transition\n"
     ]
    }
   ],
   "source": [
    "df = pd.DataFrame(columns=cols)\n",
    "for (lst, playtype) in res:\n",
    "    for elt in lst:\n",
    "        elt = list(elt)\n",
    "        elt.insert(1, str(playtype))\n",
    "        #print(elt)\n",
    "        df.loc[-1] = elt\n",
    "        df.index = df.index + 1\n",
    "        df = df.sort_index()\n",
    "    print(playtype)"
   ]
  },
  {
   "cell_type": "code",
   "execution_count": 167,
   "id": "1afbe941",
   "metadata": {},
   "outputs": [
    {
     "data": {
      "text/plain": [
       "5414"
      ]
     },
     "execution_count": 167,
     "metadata": {},
     "output_type": "execute_result"
    }
   ],
   "source": [
    "len(df)"
   ]
  },
  {
   "cell_type": "code",
   "execution_count": 163,
   "id": "5af8b10d",
   "metadata": {},
   "outputs": [
    {
     "name": "stdout",
     "output_type": "stream",
     "text": [
      "279\n"
     ]
    }
   ],
   "source": [
    "temp = df.loc[df['Playtype'] == \"cut\"]\n",
    "temp = temp.loc[temp['Avg. GP'] > 41]\n",
    "temp = temp.loc[temp['Avg. # Poss'] > 0.4]\n",
    "cut_df = temp.loc[temp['Avg. Freq'] > 4]\n",
    "#cut_df.describe()\n",
    "#print(len(cut_df))\n",
    "temp = df.loc[df['Playtype'] == \"handoff\"]\n",
    "temp = temp.loc[temp['Avg. GP'] > 41]\n",
    "temp = temp.loc[temp['Avg. # Poss'] > 0.35]\n",
    "hand_df = temp.loc[temp['Avg. Freq'] > 4.1]\n",
    "#hand_df.describe()\n",
    "#print(len(hand_df))\n",
    "temp = df.loc[df['Playtype'] == \"isolation\"] \n",
    "temp = temp.loc[temp['Avg. GP'] > 41]\n",
    "temp = temp.loc[temp['Avg. # Poss'] > 0.3]\n",
    "iso_df = temp.loc[temp['Avg. Freq'] > 3.6]\n",
    "#iso_df.describe()\n",
    "#print(len(iso_df))\n",
    "temp = df.loc[df['Playtype'] == \"offscreen\"]\n",
    "temp = temp.loc[temp['Avg. GP'] > 41]\n",
    "temp = temp.loc[temp['Avg. # Poss'] > 0.25]\n",
    "screen_df = temp.loc[temp['Avg. Freq'] > 2.9]\n",
    "#screen_df.describe()\n",
    "print(len(screen_df))\n",
    "temp = df.loc[df['Playtype'] == \"postup\"] \n",
    "temp = temp.loc[temp['Avg. GP'] > 41]\n",
    "temp = temp.loc[temp['Avg. # Poss'] > 0.35]\n",
    "post_df = temp.loc[temp['Avg. Freq'] > 4.1]\n",
    "#post_df.describe()\n",
    "#print(len(post_df))\n",
    "temp = df.loc[df['Playtype'] == \"pr_ballhandler\"]\n",
    "temp = temp.loc[temp['Avg. GP'] > 41]\n",
    "temp = temp.loc[temp['Avg. # Poss'] > 0.6]\n",
    "pr_balldf = temp.loc[temp['Avg. Freq'] > 7.6]\n",
    "#pr_balldf.describe()\n",
    "#print(len(pr_balldf))\n",
    "temp = df.loc[df['Playtype'] == \"pr_rollman\"]\n",
    "temp = temp.loc[temp['Avg. GP'] > 41]\n",
    "temp = temp.loc[temp['Avg. # Poss'] > 0.3]\n",
    "pr_rolldf = temp.loc[temp['Avg. Freq'] > 3.6]\n",
    "#pr_rolldf.describe()\n",
    "#print(len(pr_rolldf))\n",
    "temp = df.loc[df['Playtype'] == \"spotup\"]\n",
    "temp = temp.loc[temp['Avg. GP'] > 41]\n",
    "temp = temp.loc[temp['Avg. # Poss'] > 1.5]\n",
    "spot_df = temp.loc[temp['Avg. Freq'] > 17]\n",
    "#spot_df.describe()\n",
    "#print(len(spot_df))\n",
    "temp = df.loc[df['Playtype'] == \"transition\"]\n",
    "temp = temp.loc[temp['Avg. GP'] > 41]\n",
    "temp = temp.loc[temp['Avg. # Poss'] > 0.8]\n",
    "trans_df = temp.loc[temp['Avg. Freq'] > 11.6]\n",
    "#trans_df.describe()\n",
    "#print(len(trans_df))"
   ]
  },
  {
   "cell_type": "code",
   "execution_count": 164,
   "id": "4fbf5497",
   "metadata": {},
   "outputs": [],
   "source": [
    "df_trimmed = pd.concat([trans_df, spot_df, pr_rolldf, pr_balldf, post_df, cut_df, iso_df, hand_df, screen_df])"
   ]
  },
  {
   "cell_type": "code",
   "execution_count": 165,
   "id": "9fd3a542",
   "metadata": {},
   "outputs": [
    {
     "data": {
      "text/plain": [
       "2609"
      ]
     },
     "execution_count": 165,
     "metadata": {},
     "output_type": "execute_result"
    }
   ],
   "source": [
    "len(df_trimmed)"
   ]
  },
  {
   "cell_type": "code",
   "execution_count": 166,
   "id": "0e445a61",
   "metadata": {},
   "outputs": [],
   "source": [
    "#df.to_csv(r'C:/Users/spens/Basketball/NBA Stats/player_profiles/player_profile_allplays_playoffs_2016-22.csv')"
   ]
  }
 ],
 "metadata": {
  "kernelspec": {
   "display_name": "Python 3 (ipykernel)",
   "language": "python",
   "name": "python3"
  },
  "language_info": {
   "codemirror_mode": {
    "name": "ipython",
    "version": 3
   },
   "file_extension": ".py",
   "mimetype": "text/x-python",
   "name": "python",
   "nbconvert_exporter": "python",
   "pygments_lexer": "ipython3",
   "version": "3.8.8"
  }
 },
 "nbformat": 4,
 "nbformat_minor": 5
}
